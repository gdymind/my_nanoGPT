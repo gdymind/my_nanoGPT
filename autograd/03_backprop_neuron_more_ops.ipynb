{
 "cells": [
  {
   "cell_type": "code",
   "execution_count": null,
   "metadata": {},
   "outputs": [],
   "source": [
    "import math\n",
    "import numpy as np\n",
    "import matplotlib.pyplot as plt"
   ]
  },
  {
   "cell_type": "code",
   "execution_count": 1,
   "metadata": {},
   "outputs": [],
   "source": [
    "from graphviz import Digraph\n",
    "def trace(root): # using dfs to build a graph\n",
    "    nodes, edges = set(), set()\n",
    "    def build(v):\n",
    "        if v not in nodes: # only add each node once\n",
    "            nodes.add(v)\n",
    "            for child in v._prev: # traverse each child only once\n",
    "                edges.add((child, v)) # from child to parent\n",
    "                build(child)\n",
    "    build(root)\n",
    "    return nodes, edges\n",
    "def draw_dot(root):\n",
    "    dot = Digraph(format='svg', graph_attr={'rankdir': 'LR'}) # LR means left to right\n",
    "    nodes, edges = trace(root)\n",
    "    for n in nodes:\n",
    "        uid = str(id(n))\n",
    "        dot.node(name=uid, label = \"{%s | %s | data %.2f | grad %.2f}\" % (n._op, n.label, n.data, n.grad), shape='record')\n",
    "    for n1, n2 in edges:\n",
    "        dot.edge(str(id(n1)), str(id(n2)))\n",
    "    return dot"
   ]
  },
  {
   "cell_type": "code",
   "execution_count": 3,
   "metadata": {},
   "outputs": [],
   "source": [
    "class Value:\n",
    "    def __init__(self, data, _children=(), _op = '', label = ''):\n",
    "        self.data = data\n",
    "        self.grad = 0.0\n",
    "        self._backward = lambda: None # default: no action for leaf nodes\n",
    "        self._prev = set(_children)\n",
    "        self._op = _op\n",
    "        self.label = label\n",
    "\n",
    "    def __repr__(self): # for printing\n",
    "        return f\"Value(data={self.data})\"\n",
    "\n",
    "    def __add__(self, other): # a + b\n",
    "        other = other if isinstance(other, Value) else Value(other) # support cases like \"a + 2\"\n",
    "        out = Value(self.data + other.data, (self, other), '+')\n",
    "        def _backward(): # set self.grad and other.grad based on out.grad\n",
    "            self.grad += out.grad * 1.0\n",
    "            other.grad += out.grad * 1.0\n",
    "        out._backward = _backward\n",
    "        return out\n",
    "\n",
    "    def __mul__(self, other): # a * b\n",
    "        other = other if isinstance(other, Value) else Value(other) # support cases like \"a * 2\"\n",
    "        out = Value(self.data * other.data, (self, other), '*')\n",
    "        def _backward(): # set self.grad and other.grad based on out.grad\n",
    "            self.grad += out.grad * other.data\n",
    "            other.grad += out.grad * self.data\n",
    "        out._backward = _backward\n",
    "        return out\n",
    "\n",
    "    def __radd__(self, other): # support cases like \"2 + a\"\n",
    "        return self + other\n",
    "\n",
    "    def __rmul__(self, other): # support cases like \"2 * a\"\n",
    "        return self * other\n",
    "\n",
    "    def tanh(self):\n",
    "        n = self.data\n",
    "        t = (math.exp(2*n) - 1) / (math.exp(2*n) + 1)\n",
    "        out = Value(t, (self, ), 'tanh')\n",
    "        def _backward():\n",
    "            self.grad += out.grad * (1 - t**2)\n",
    "        out._backward = _backward\n",
    "        return out\n",
    "    \n",
    "    def backward(self):\n",
    "        topo = []\n",
    "        visited = set()\n",
    "        def build_topo(v):\n",
    "            if v not in visited:\n",
    "                visited.add(v)\n",
    "                for child in v._prev:\n",
    "                    build_topo(child)\n",
    "                topo.append(v)\n",
    "        build_topo(self)\n",
    "\n",
    "        self.grad = 1.0\n",
    "        for node in reversed(topo):\n",
    "            node._backward()"
   ]
  },
  {
   "cell_type": "code",
   "execution_count": 4,
   "metadata": {},
   "outputs": [
    {
     "name": "stdout",
     "output_type": "stream",
     "text": [
      "Value(data=6.0)\n",
      "Value(data=6.0)\n",
      "Value(data=5.0)\n",
      "Value(data=5.0)\n"
     ]
    }
   ],
   "source": [
    "a = Value(3.0)\n",
    "b = a * 2\n",
    "print(b)\n",
    "b = 2 * a\n",
    "print(b)\n",
    "b = a + 2\n",
    "print(b)\n",
    "b = 2 + a\n",
    "print(b)"
   ]
  }
 ],
 "metadata": {
  "kernelspec": {
   "display_name": "vllm",
   "language": "python",
   "name": "python3"
  },
  "language_info": {
   "codemirror_mode": {
    "name": "ipython",
    "version": 3
   },
   "file_extension": ".py",
   "mimetype": "text/x-python",
   "name": "python",
   "nbconvert_exporter": "python",
   "pygments_lexer": "ipython3",
   "version": "3.11.11"
  }
 },
 "nbformat": 4,
 "nbformat_minor": 2
}
